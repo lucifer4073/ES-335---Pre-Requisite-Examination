{
 "cells": [
  {
   "cell_type": "markdown",
   "id": "dde7e8ea",
   "metadata": {},
   "source": [
    "# Pre Requisite Examination\n",
    "\n",
    "**Course:** ES 335 - Machine Learning  \n",
    "**Exam:** Pre-Requisite Examination"
   ]
  },
  {
   "cell_type": "markdown",
   "id": "3dfa1e61",
   "metadata": {},
   "source": [
    "- **Name:** Balgopal Moharana  \n",
    "- **Roll No.:** 21110040  \n",
    "- **Batch:** BTech '21 (Dual Majors)  \n"
   ]
  },
  {
   "cell_type": "markdown",
   "id": "f028cee8",
   "metadata": {},
   "source": [
    "### Requirements installation"
   ]
  },
  {
   "cell_type": "code",
   "execution_count": 1,
   "id": "926a01cd",
   "metadata": {},
   "outputs": [
    {
     "name": "stdout",
     "output_type": "stream",
     "text": [
      "Requirement already satisfied: jax in c:\\users\\hp\\anaconda3\\lib\\site-packages (0.7.0)\n",
      "Requirement already satisfied: jaxlib<=0.7.0,>=0.7.0 in c:\\users\\hp\\anaconda3\\lib\\site-packages (from jax) (0.7.0)\n",
      "Requirement already satisfied: ml_dtypes>=0.5.0 in c:\\users\\hp\\anaconda3\\lib\\site-packages (from jax) (0.5.3)\n",
      "Requirement already satisfied: numpy>=1.26 in c:\\users\\hp\\anaconda3\\lib\\site-packages (from jax) (1.26.4)\n",
      "Requirement already satisfied: opt_einsum in c:\\users\\hp\\anaconda3\\lib\\site-packages (from jax) (3.4.0)\n",
      "Requirement already satisfied: scipy>=1.12 in c:\\users\\hp\\anaconda3\\lib\\site-packages (from jax) (1.13.1)\n",
      "Note: you may need to restart the kernel to use updated packages.\n",
      "Requirement already satisfied: numpy in c:\\users\\hp\\anaconda3\\lib\\site-packages (1.26.4)\n",
      "Note: you may need to restart the kernel to use updated packages.\n",
      "Requirement already satisfied: matplotlib in c:\\users\\hp\\anaconda3\\lib\\site-packages (3.9.2)\n",
      "Requirement already satisfied: contourpy>=1.0.1 in c:\\users\\hp\\anaconda3\\lib\\site-packages (from matplotlib) (1.2.0)\n",
      "Requirement already satisfied: cycler>=0.10 in c:\\users\\hp\\anaconda3\\lib\\site-packages (from matplotlib) (0.11.0)\n",
      "Requirement already satisfied: fonttools>=4.22.0 in c:\\users\\hp\\anaconda3\\lib\\site-packages (from matplotlib) (4.51.0)\n",
      "Requirement already satisfied: kiwisolver>=1.3.1 in c:\\users\\hp\\anaconda3\\lib\\site-packages (from matplotlib) (1.4.4)\n",
      "Requirement already satisfied: numpy>=1.23 in c:\\users\\hp\\anaconda3\\lib\\site-packages (from matplotlib) (1.26.4)\n",
      "Requirement already satisfied: packaging>=20.0 in c:\\users\\hp\\anaconda3\\lib\\site-packages (from matplotlib) (24.1)\n",
      "Requirement already satisfied: pillow>=8 in c:\\users\\hp\\anaconda3\\lib\\site-packages (from matplotlib) (10.4.0)\n",
      "Requirement already satisfied: pyparsing>=2.3.1 in c:\\users\\hp\\anaconda3\\lib\\site-packages (from matplotlib) (3.1.2)\n",
      "Requirement already satisfied: python-dateutil>=2.7 in c:\\users\\hp\\anaconda3\\lib\\site-packages (from matplotlib) (2.9.0.post0)\n",
      "Requirement already satisfied: six>=1.5 in c:\\users\\hp\\anaconda3\\lib\\site-packages (from python-dateutil>=2.7->matplotlib) (1.16.0)\n",
      "Note: you may need to restart the kernel to use updated packages.\n",
      "Requirement already satisfied: pandas in c:\\users\\hp\\anaconda3\\lib\\site-packages (2.2.2)\n",
      "Requirement already satisfied: numpy>=1.26.0 in c:\\users\\hp\\anaconda3\\lib\\site-packages (from pandas) (1.26.4)\n",
      "Requirement already satisfied: python-dateutil>=2.8.2 in c:\\users\\hp\\anaconda3\\lib\\site-packages (from pandas) (2.9.0.post0)\n",
      "Requirement already satisfied: pytz>=2020.1 in c:\\users\\hp\\anaconda3\\lib\\site-packages (from pandas) (2024.1)\n",
      "Requirement already satisfied: tzdata>=2022.7 in c:\\users\\hp\\anaconda3\\lib\\site-packages (from pandas) (2023.3)\n",
      "Requirement already satisfied: six>=1.5 in c:\\users\\hp\\anaconda3\\lib\\site-packages (from python-dateutil>=2.8.2->pandas) (1.16.0)\n",
      "Note: you may need to restart the kernel to use updated packages.\n"
     ]
    }
   ],
   "source": [
    "%pip install jax\n",
    "%pip install numpy\n",
    "%pip install matplotlib\n",
    "%pip install pandas\n"
   ]
  },
  {
   "cell_type": "markdown",
   "id": "a2ae497d",
   "metadata": {},
   "source": [
    "###  Question - 1 : How many multiplications and additions do you need to perform a matrix multiplication between a (n, k) and (k, m) matrix? Explain."
   ]
  },
  {
   "cell_type": "markdown",
   "id": "8d83e7fd",
   "metadata": {},
   "source": [
    "Multiplying two matrices **A** of size `(n × k)` and **B** of size `(k × m)`, the result is a matrix **C** of size `(n × m)`.\n",
    "\n",
    "- Each entry in **C** comes from taking **one row from A** and **one column from B**, multiplying matching elements, and adding them up.\n",
    "- For one entry:\n",
    "  - **k multiplications**  are performed (one for each matching pair).\n",
    "  - **k - 1 additions** are performed (to add the products together).\n",
    "\n",
    "Since **C** has `n × m` entries:\n",
    "\n",
    "- **Multiplications:** `n × m × k`\n",
    "- **Additions:** `n × m × (k - 1)`\n",
    "\n"
   ]
  },
  {
   "cell_type": "markdown",
   "id": "682fecfe",
   "metadata": {},
   "source": [
    "### Question - 2 : Write Python code to multiply the above two matrices. Solve using list of lists and then use numpy. Compare the timing of both solutions. Which one is faster? Why?"
   ]
  },
  {
   "cell_type": "code",
   "execution_count": 2,
   "id": "821bcba2",
   "metadata": {},
   "outputs": [],
   "source": [
    "import numpy as np\n",
    "import time\n",
    "import random"
   ]
  },
  {
   "cell_type": "code",
   "execution_count": 3,
   "id": "e7b98f8e",
   "metadata": {},
   "outputs": [],
   "source": [
    "def matrix_multiply_lists(A, B):\n",
    "    n, k = len(A), len(A[0])\n",
    "    m = len(B[0])\n",
    "    result = [[0 for _ in range(m)] for _ in range(n)]\n",
    "    \n",
    "    for i in range(n):\n",
    "        for j in range(m):\n",
    "            for kk in range(k):\n",
    "                result[i][j] += A[i][kk] * B[kk][j]\n",
    "    \n",
    "    return result\n",
    "\n",
    "def matrix_multiply_numpy(A, B):\n",
    "    return np.matmul(A, B)"
   ]
  },
  {
   "cell_type": "code",
   "execution_count": 4,
   "id": "0b81ed65",
   "metadata": {},
   "outputs": [
    {
     "name": "stdout",
     "output_type": "stream",
     "text": [
      "Matrix dimensions: (100×80) × (80×120)\n",
      "List of lists time: 0.189574 seconds\n",
      "NumPy time: 0.010511 seconds\n",
      "NumPy is 18.0x faster\n"
     ]
    }
   ],
   "source": [
    "n, k, m = 100, 80, 120\n",
    "\n",
    "A_numpy = np.random.randint(1, 10, size=(n, k))\n",
    "B_numpy = np.random.randint(1, 10, size=(k, m))\n",
    "\n",
    "A_list = A_numpy.tolist()\n",
    "B_list = B_numpy.tolist()\n",
    "\n",
    "start_time = time.time()\n",
    "result_list = matrix_multiply_lists(A_list, B_list)\n",
    "list_time = time.time() - start_time\n",
    "\n",
    "start_time = time.time()\n",
    "result_numpy = matrix_multiply_numpy(A_numpy, B_numpy)\n",
    "numpy_time = time.time() - start_time\n",
    "\n",
    "print(f\"Matrix dimensions: ({n}×{k}) × ({k}×{m})\")\n",
    "print(f\"List of lists time: {list_time:.6f} seconds\")\n",
    "print(f\"NumPy time: {numpy_time:.6f} seconds\")\n",
    "print(f\"NumPy is {list_time/numpy_time:.1f}x faster\")"
   ]
  },
  {
   "cell_type": "markdown",
   "id": "99650f24",
   "metadata": {},
   "source": [
    "NumPy is significantly faster than native Python functions because it uses optimized C libraries (like BLAS and LAPACK) for computations and performs vectorized operations that eliminate the need for Python interpreter loops."
   ]
  },
  {
   "cell_type": "markdown",
   "id": "d2b944de",
   "metadata": {},
   "source": [
    "### Question - 3 : Finding the highest element in a list requires one pass of the array. Finding the second highest element requires 2 passes of the array. Using this method, what is the time complexity of finding the median of the array? Can you suggest a better method? Can you implement both these methods in Python and compare against numpy.median routine in terms of time?"
   ]
  },
  {
   "cell_type": "markdown",
   "id": "4dd81c8d",
   "metadata": {},
   "source": [
    "If finding the *k-th* largest element takes **k passes**, then finding the median means doing about `n/2` passes for an array of size `n`.\n",
    "\n",
    "- Each pass takes `O(n)` time (to find and remove the largest element).\n",
    "- Doing this `n/2` times gives **O(n²)** overall."
   ]
  },
  {
   "cell_type": "markdown",
   "id": "5562c071",
   "metadata": {},
   "source": [
    "Instead of repeatedly finding the maximum and removing it, we can **sort the array once** and directly pick the median:\n",
    "\n",
    "- Sorting: `O(n log n)`\n",
    "- Median lookup: `O(1)`\n",
    "\n",
    "**Median lookup**\n",
    "- if n is odd then median : `array[n//2]`\n",
    "- if n is even then median : `(array[n//2 -1] + array[n//2])/2`\n",
    "\n",
    "That’s a huge speed boost from `O(n²)` to `O(n log n)`.\n",
    "\n",
    "Even faster methods exist, like:\n",
    "- **QuickSelect** → Average `O(n)`\n",
    "- **Median of Medians** → Worst-case `O(n)`"
   ]
  },
  {
   "cell_type": "code",
   "execution_count": 5,
   "id": "acacaa4f",
   "metadata": {},
   "outputs": [],
   "source": [
    "import time\n",
    "import random\n",
    "import numpy as np"
   ]
  },
  {
   "cell_type": "code",
   "execution_count": 6,
   "id": "3ff6accb",
   "metadata": {},
   "outputs": [],
   "source": [
    "def naive_median(arr):\n",
    "    n = len(arr)\n",
    "    if n == 0:\n",
    "        return None\n",
    "    arr_copy = arr.copy()\n",
    "    for _ in range(n // 2):\n",
    "        max_val = max(arr_copy)\n",
    "        arr_copy.remove(max_val)\n",
    "    if n % 2 == 1:\n",
    "        return max(arr_copy)\n",
    "    else:\n",
    "        max1 = max(arr_copy)\n",
    "        arr_copy.remove(max1)\n",
    "        max2 = max(arr_copy) if arr_copy else max1\n",
    "        return (max1 + max2) / 2\n",
    "\n",
    "def better_median(arr):\n",
    "    n = len(arr)\n",
    "    sorted_arr = sorted(arr)\n",
    "    if n == 0:\n",
    "        return None\n",
    "    if n % 2 == 1:\n",
    "        return sorted_arr[n // 2]\n",
    "    else:\n",
    "        return (sorted_arr[n // 2 - 1] + sorted_arr[n // 2]) / 2"
   ]
  },
  {
   "cell_type": "code",
   "execution_count": 7,
   "id": "3fa29950",
   "metadata": {},
   "outputs": [
    {
     "name": "stdout",
     "output_type": "stream",
     "text": [
      "Array size: 100000\n",
      "Naive method (O(n²)): 131.954906 seconds\n",
      "Better method (O(n log n)): 0.016773 seconds\n",
      "NumPy median: 0.026846 seconds\n",
      "Better method is 7866.9x faster than naive\n",
      "NumPy is 0.6x faster than better method\n"
     ]
    }
   ],
   "source": [
    "size = int(1e5)\n",
    "arr = [random.randint(1, 10) for _ in range(size)]\n",
    "\n",
    "start = time.time()\n",
    "med_naive = naive_median(arr)\n",
    "naive_time = time.time() - start\n",
    "\n",
    "start = time.time()\n",
    "med_better = better_median(arr)\n",
    "better_time = time.time() - start\n",
    "\n",
    "start = time.time()\n",
    "med_numpy = np.median(arr)\n",
    "numpy_time = time.time() - start\n",
    "\n",
    "print(f\"Array size: {size}\")\n",
    "print(f\"Naive method (O(n²)): {naive_time:.6f} seconds\")\n",
    "print(f\"Better method (O(n log n)): {better_time:.6f} seconds\")\n",
    "print(f\"NumPy median: {numpy_time:.6f} seconds\")\n",
    "print(f\"Better method is {naive_time/better_time:.1f}x faster than naive\")\n",
    "print(f\"NumPy is {better_time/numpy_time:.1f}x faster than better method\")"
   ]
  },
  {
   "cell_type": "markdown",
   "id": "4b097b6a",
   "metadata": {},
   "source": [
    "### Question - 4 What is the gradient of the following function with respect to x and y?\n",
    "$$\n",
    "f(x, y) = x^2 y + y^3 \\sin(x)\n",
    "$$"
   ]
  },
  {
   "cell_type": "markdown",
   "id": "4567f0d7",
   "metadata": {},
   "source": [
    "**Partial derivatives**\n",
    "\n",
    "**With respect to \\(x\\):**\n",
    "$$\n",
    "\\frac{\\partial f}{\\partial x} = 2xy + y^3 \\cos(x)\n",
    "$$\n",
    "\n",
    "**With respect to \\(y\\):**\n",
    "$$\n",
    "\\frac{\\partial f}{\\partial y} = x^2 + 3y^2 \\sin(x)\n",
    "$$"
   ]
  },
  {
   "cell_type": "markdown",
   "id": "6fb148b3",
   "metadata": {},
   "source": [
    "**Gradient**\n",
    "$$\n",
    "\\nabla f(x, y) =\n",
    "\\left[\n",
    "\\frac{\\partial f}{\\partial x},\\ \\frac{\\partial f}{\\partial y}\n",
    "\\right]\n",
    "=\n",
    "\\left[\n",
    "2xy + y^3 \\cos(x),\\ x^2 + 3y^2 \\sin(x)\n",
    "\\right]\n",
    "$$"
   ]
  },
  {
   "cell_type": "markdown",
   "id": "279d5150",
   "metadata": {},
   "source": [
    "### Question - 5 Use `JAX` to confirm the gradient evaluated by your method matches the analytical solution corresponding to a few random values of x and y"
   ]
  },
  {
   "cell_type": "code",
   "execution_count": 8,
   "id": "7b43974b",
   "metadata": {},
   "outputs": [],
   "source": [
    "import jax.numpy as jnp\n",
    "from jax import grad\n",
    "import numpy as np"
   ]
  },
  {
   "cell_type": "code",
   "execution_count": 9,
   "id": "11feaf97",
   "metadata": {},
   "outputs": [],
   "source": [
    "\n",
    "def f(vars):\n",
    "    x, y = vars\n",
    "    return x**2 * y + y**3 * jnp.sin(x)\n",
    "\n",
    "def analytical_grad(x, y):\n",
    "    df_dx = 2 * x * y + y**3 * jnp.cos(x)\n",
    "    df_dy = x**2 + 3 * y**2 * jnp.sin(x)\n",
    "    return jnp.array([df_dx, df_dy])"
   ]
  },
  {
   "cell_type": "code",
   "execution_count": 10,
   "id": "862caf5d",
   "metadata": {},
   "outputs": [
    {
     "name": "stdout",
     "output_type": "stream",
     "text": [
      "x=-1.255, y=4.507\n",
      "Analytical: [ 17.161594 -56.347733]\n",
      "JAX auto : [ 17.161594 -56.347733]\n",
      "Match?    True\n",
      "\n",
      "x=2.320, y=0.987\n",
      "Analytical: [3.9236646 7.520391 ]\n",
      "JAX auto : [3.923664 7.520391]\n",
      "Match?    True\n",
      "\n",
      "x=-3.440, y=-3.440\n",
      "Analytical: [62.578934 22.2635  ]\n",
      "JAX auto : [62.57894  22.263502]\n",
      "Match?    True\n",
      "\n",
      "x=-4.419, y=3.662\n",
      "Analytical: [-46.55541   58.037537]\n",
      "JAX auto : [-46.555405  58.03754 ]\n",
      "Match?    True\n",
      "\n",
      "x=1.011, y=2.081\n",
      "Analytical: [ 8.990255 12.029234]\n",
      "JAX auto : [ 8.990253 12.029232]\n",
      "Match?    True\n",
      "\n"
     ]
    }
   ],
   "source": [
    "f_grad = grad(f)\n",
    "\n",
    "np.random.seed(42)\n",
    "for _ in range(5):\n",
    "    x_val = np.random.uniform(-5, 5)\n",
    "    y_val = np.random.uniform(-5, 5)\n",
    "    auto_grad = f_grad(jnp.array([x_val, y_val]))\n",
    "    manual_grad = analytical_grad(x_val, y_val)\n",
    "    print(f\"x={x_val:.3f}, y={y_val:.3f}\")\n",
    "    print(f\"Analytical: {manual_grad}\")\n",
    "    print(f\"JAX auto : {auto_grad}\")\n",
    "    print(f\"Match?    {jnp.allclose(manual_grad, auto_grad)}\\n\")"
   ]
  },
  {
   "cell_type": "markdown",
   "id": "61644a44",
   "metadata": {},
   "source": [
    "### Question - 6 Use `sympy` to confirm that you obtain the same gradient analytically."
   ]
  },
  {
   "cell_type": "code",
   "execution_count": 11,
   "id": "2a6f2fc1",
   "metadata": {},
   "outputs": [],
   "source": [
    "import sympy as sp"
   ]
  },
  {
   "cell_type": "code",
   "execution_count": 12,
   "id": "e7bc9ffc",
   "metadata": {},
   "outputs": [
    {
     "name": "stdout",
     "output_type": "stream",
     "text": [
      "Symbolic gradient from SymPy:\n",
      "∂f/∂x = 2*x*y + y**3*cos(x)\n",
      "∂f/∂y = x**2 + 3*y**2*sin(x)\n",
      "\n",
      "Manual gradient:\n",
      "∂f/∂x = 2*x*y + y**3*cos(x)\n",
      "∂f/∂y = x**2 + 3*y**2*sin(x)\n",
      "True\n",
      "True\n"
     ]
    }
   ],
   "source": [
    "x, y = sp.symbols('x y', real=True)\n",
    "\n",
    "f = x**2 * y + y**3 * sp.sin(x)\n",
    "\n",
    "df_dx = sp.diff(f, x)\n",
    "df_dy = sp.diff(f, y)\n",
    "\n",
    "print(\"Symbolic gradient from SymPy:\")\n",
    "print(f\"∂f/∂x = {df_dx}\")\n",
    "print(f\"∂f/∂y = {df_dy}\")\n",
    "\n",
    "manual_df_dx = 2*x*y + y**3 * sp.cos(x)\n",
    "manual_df_dy = x**2 + 3*y**2 * sp.sin(x)\n",
    "\n",
    "print(\"\\nManual gradient:\")\n",
    "print(f\"∂f/∂x = {manual_df_dx}\")\n",
    "print(f\"∂f/∂y = {manual_df_dy}\")\n",
    "\n",
    "print(df_dx == manual_df_dx)\n",
    "print(df_dy == manual_df_dy)"
   ]
  },
  {
   "cell_type": "markdown",
   "id": "5b9dae47",
   "metadata": {},
   "source": [
    "### Question - 7 Create a Python nested dictionary to represent hierarchical information. We want to store record of students and their marks."
   ]
  },
  {
   "cell_type": "code",
   "execution_count": 13,
   "id": "e9c3ae41",
   "metadata": {},
   "outputs": [],
   "source": [
    "students_data = {\n",
    "    2022: {\n",
    "        \"Branch 1\": {\n",
    "            2210040: {  # Roll Number\n",
    "                \"Name\": \"Alice\",\n",
    "                \"Marks\": {\n",
    "                    \"Maths\": 100,\n",
    "                    \"English\": 70,\n",
    "                    \"Science\": 85\n",
    "                }\n",
    "            },\n",
    "            2210041: {\n",
    "                \"Name\": \"Bob\",\n",
    "                \"Marks\": {\n",
    "                    \"Maths\": 90,\n",
    "                    \"English\": 80,\n",
    "                    \"Science\": 88\n",
    "                }\n",
    "            }\n",
    "        },\n",
    "        \"Branch 2\": {\n",
    "            2210042: {\n",
    "                \"Name\": \"Charlie\",\n",
    "                \"Marks\": {\n",
    "                    \"Maths\": 95,\n",
    "                    \"English\": 78,\n",
    "                    \"Science\": 82\n",
    "                }\n",
    "            }\n",
    "        }\n",
    "    },\n",
    "    2023: {\n",
    "        \"Branch 1\": {\n",
    "            2310053: {\n",
    "                \"Name\": \"David\",\n",
    "                \"Marks\": {\n",
    "                    \"Maths\": 87,\n",
    "                    \"English\": 92,\n",
    "                    \"Science\": 76\n",
    "                }\n",
    "            }\n",
    "        },\n",
    "        \"Branch 2\": {\n",
    "            2310047: {\n",
    "                \"Name\": \"Eva\",\n",
    "                \"Marks\": {\n",
    "                    \"Maths\": 91,\n",
    "                    \"English\": 88,\n",
    "                    \"Science\": 90\n",
    "                }\n",
    "            }\n",
    "        }\n",
    "    },\n",
    "    2024: {\n",
    "        \"Branch 1\": {\n",
    "            2410059: {\n",
    "                \"Name\": \"Frank\",\n",
    "                \"Marks\": {\n",
    "                    \"Maths\": 84,\n",
    "                    \"English\": 77,\n",
    "                    \"Science\": 80\n",
    "                }\n",
    "            }\n",
    "        },\n",
    "        \"Branch 2\": {\n",
    "            2410044: {\n",
    "                \"Name\": \"Grace\",\n",
    "                \"Marks\": {\n",
    "                    \"Maths\": 93,\n",
    "                    \"English\": 85,\n",
    "                    \"Science\": 89\n",
    "                }\n",
    "            }\n",
    "        }\n",
    "    },\n",
    "    2025: {\n",
    "        \"Branch 1\": {\n",
    "            2510051: {\n",
    "                \"Name\": \"Henry\",\n",
    "                \"Marks\": {\n",
    "                    \"Maths\": 88,\n",
    "                    \"English\": 81,\n",
    "                    \"Science\": 79\n",
    "                }\n",
    "            }\n",
    "        },\n",
    "        \"Branch 2\": {\n",
    "            2510046: {\n",
    "                \"Name\": \"Isla\",\n",
    "                \"Marks\": {\n",
    "                    \"Maths\": 90,\n",
    "                    \"English\": 87,\n",
    "                    \"Science\": 85\n",
    "                }\n",
    "            }\n",
    "        }\n",
    "    }\n",
    "}\n"
   ]
  },
  {
   "cell_type": "markdown",
   "id": "2d27cd8b",
   "metadata": {},
   "source": [
    "### Question - 8 Store the same information using Python classes. We have an overall database which is a list of year objects. Each year contains a list of branches. Each branch contains a list of students. Each student has some properties like name, roll number and has marks in some subjects."
   ]
  },
  {
   "cell_type": "code",
   "execution_count": 14,
   "id": "1d01b5ac",
   "metadata": {},
   "outputs": [],
   "source": [
    "class Student:\n",
    "    def __init__(self, roll_number, name, marks):\n",
    "        self.roll_number = roll_number\n",
    "        self.name = name\n",
    "        self.marks = marks\n",
    "\n",
    "    def __repr__(self):\n",
    "        return f\"Student(roll={self.roll_number}, name={self.name}, marks={self.marks})\"\n",
    "\n",
    "\n",
    "class Branch:\n",
    "    def __init__(self, name):\n",
    "        self.name = name\n",
    "        self.students = []\n",
    "\n",
    "    def add_student(self, student):\n",
    "        self.students.append(student)\n",
    "\n",
    "    def __repr__(self):\n",
    "        return f\"Branch({self.name}, students={len(self.students)})\"\n",
    "\n",
    "\n",
    "class Year:\n",
    "    def __init__(self, year):\n",
    "        self.year = year\n",
    "        self.branches = []\n",
    "\n",
    "    def add_branch(self, branch):\n",
    "        self.branches.append(branch)\n",
    "\n",
    "    def __repr__(self):\n",
    "        return f\"Year({self.year}, branches={len(self.branches)})\"\n",
    "\n",
    "\n",
    "class Database:\n",
    "    def __init__(self):\n",
    "        self.years = []\n",
    "\n",
    "    def add_year(self, year_obj):\n",
    "        self.years.append(year_obj)\n",
    "\n",
    "    def __repr__(self):\n",
    "        return f\"Database(years={len(self.years)})\"\n",
    "\n",
    "\n"
   ]
  },
  {
   "cell_type": "code",
   "execution_count": 15,
   "id": "75905b28",
   "metadata": {},
   "outputs": [
    {
     "name": "stdout",
     "output_type": "stream",
     "text": [
      "Year: 2022\n",
      "  Branch: Branch 1\n",
      "    Student(roll=2210040, name=Alice, marks={'Maths': 100, 'English': 70, 'Science': 85})\n",
      "    Student(roll=2210041, name=Bob, marks={'Maths': 90, 'English': 80, 'Science': 88})\n",
      "  Branch: Branch 2\n",
      "    Student(roll=2210042, name=Charlie, marks={'Maths': 95, 'English': 78, 'Science': 82})\n",
      "Year: 2023\n",
      "  Branch: Branch 1\n",
      "    Student(roll=2310053, name=David, marks={'Maths': 87, 'English': 92, 'Science': 76})\n",
      "  Branch: Branch 2\n",
      "    Student(roll=2310047, name=Eva, marks={'Maths': 91, 'English': 88, 'Science': 90})\n",
      "Year: 2024\n",
      "  Branch: Branch 1\n",
      "    Student(roll=2410059, name=Frank, marks={'Maths': 84, 'English': 77, 'Science': 80})\n",
      "  Branch: Branch 2\n",
      "    Student(roll=2410044, name=Grace, marks={'Maths': 93, 'English': 85, 'Science': 89})\n",
      "Year: 2025\n",
      "  Branch: Branch 1\n",
      "    Student(roll=2510051, name=Henry, marks={'Maths': 88, 'English': 81, 'Science': 79})\n",
      "  Branch: Branch 2\n",
      "    Student(roll=2510046, name=Isla, marks={'Maths': 90, 'English': 87, 'Science': 85})\n"
     ]
    }
   ],
   "source": [
    "db = Database()\n",
    "\n",
    "for year, branches_data in students_data.items():\n",
    "    year_obj = Year(year)\n",
    "    for branch_name, students in branches_data.items():\n",
    "        branch_obj = Branch(branch_name)\n",
    "        for roll_no, details in students.items():\n",
    "            student_obj = Student(\n",
    "                roll_number=roll_no,\n",
    "                name=details[\"Name\"],\n",
    "                marks=details[\"Marks\"]\n",
    "            )\n",
    "            branch_obj.add_student(student_obj)\n",
    "        year_obj.add_branch(branch_obj)\n",
    "    db.add_year(year_obj)\n",
    "\n",
    "\n",
    "for year in db.years:\n",
    "    print(f\"Year: {year.year}\")\n",
    "    for branch in year.branches:\n",
    "        print(f\"  Branch: {branch.name}\")\n",
    "        for student in branch.students:\n",
    "            print(f\"    {student}\")\n"
   ]
  },
  {
   "cell_type": "markdown",
   "id": "5ae7f8e5",
   "metadata": {},
   "source": [
    "### Question - 9 Using matplotlib plot the following functions on the domain: x = 0.5 to 100.0 in steps of 0.5.\n",
    "\n",
    "1. $y = x$  \n",
    "\n",
    "2. $y = x^2$  \n",
    "\n",
    "3. $y = \\frac{x^3}{100}$  \n",
    "\n",
    "4. $y = \\sin(x)$  \n",
    "\n",
    "5. $y = \\frac{\\sin(x)}{x}$  \n",
    "\n",
    "6. $y = \\log(x)$  \n",
    "\n",
    "7. $y = e^x$  \n",
    "\n"
   ]
  },
  {
   "cell_type": "code",
   "execution_count": 16,
   "id": "e2b05a46",
   "metadata": {},
   "outputs": [
    {
     "data": {
      "image/png": "[encoded data removed]",
      "text/plain": [
       "<Figure size 1200x1000 with 7 Axes>"
      ]
     },
     "metadata": {},
     "output_type": "display_data"
    }
   ],
   "source": [
    "import numpy as np\n",
    "import matplotlib.pyplot as plt\n",
    "\n",
    "# Define the domain\n",
    "x = np.arange(0.5, 100.5, 0.5)\n",
    "\n",
    "# Define the functions\n",
    "y1 = x\n",
    "y2 = x**2\n",
    "y3 = x**3 / 100\n",
    "y4 = np.sin(x)\n",
    "y5 = np.sin(x) / x\n",
    "y6 = np.log(x)\n",
    "y7 = np.exp(x)  \n",
    "\n",
    "# Create figure with subplots\n",
    "plt.figure(figsize=(12, 10))\n",
    "\n",
    "# List of y values and titles\n",
    "y_values = [y1, y2, y3, y4, y5, y6, y7]\n",
    "titles = [\n",
    "    r\"$y = x$\",\n",
    "    r\"$y = x^2$\",\n",
    "    r\"$y = \\frac{x^3}{100}$\",\n",
    "    r\"$y = \\sin(x)$\",\n",
    "    r\"$y = \\frac{\\sin(x)}{x}$\",\n",
    "    r\"$y = \\log(x)$\",\n",
    "    r\"$y = e^x$ \"\n",
    "]\n",
    "\n",
    "# Plot each function in a grid\n",
    "for i, (y, title) in enumerate(zip(y_values, titles), start=1):\n",
    "    plt.subplot(3, 3, i)  # 3x3 grid, leaving some empty spots\n",
    "    plt.plot(x, y, label=title)\n",
    "    plt.title(title)\n",
    "    plt.grid(True)\n",
    "    plt.legend()\n",
    "\n",
    "plt.tight_layout()\n",
    "plt.show()\n"
   ]
  },
  {
   "cell_type": "markdown",
   "id": "3228b254",
   "metadata": {},
   "source": [
    "### Question 10 : Using numpy generate a matrix of size `20X5` containing random numbers drawn uniformly from the range of 1 to 2. Using Pandas create a dataframe out of this matrix. Name the columns of the dataframe as “a”, “b”, “c”, “d”, “e”. Find the column with the highest standard deviation. Find the row with the lowest mean."
   ]
  },
  {
   "cell_type": "code",
   "execution_count": 17,
   "id": "46e42c16",
   "metadata": {},
   "outputs": [
    {
     "name": "stdout",
     "output_type": "stream",
     "text": [
      "DataFrame:\n",
      "            a         b         c         d         e\n",
      "0   1.020584  1.969910  1.832443  1.212339  1.181825\n",
      "1   1.183405  1.304242  1.524756  1.431945  1.291229\n",
      "2   1.611853  1.139494  1.292145  1.366362  1.456070\n",
      "3   1.785176  1.199674  1.514234  1.592415  1.046450\n",
      "4   1.607545  1.170524  1.065052  1.948886  1.965632\n",
      "5   1.808397  1.304614  1.097672  1.684233  1.440152\n",
      "6   1.122038  1.495177  1.034389  1.909320  1.258780\n",
      "7   1.662522  1.311711  1.520068  1.546710  1.184854\n",
      "8   1.969585  1.775133  1.939499  1.894827  1.597900\n",
      "9   1.921874  1.088493  1.195983  1.045227  1.325330\n",
      "10  1.388677  1.271349  1.828738  1.356753  1.280935\n",
      "11  1.542696  1.140924  1.802197  1.074551  1.986887\n",
      "12  1.772245  1.198716  1.005522  1.815461  1.706857\n",
      "13  1.729007  1.771270  1.074045  1.358466  1.115869\n",
      "14  1.863103  1.623298  1.330898  1.063558  1.310982\n",
      "15  1.325183  1.729606  1.637557  1.887213  1.472215\n",
      "16  1.119594  1.713245  1.760785  1.561277  1.770967\n",
      "17  1.493796  1.522733  1.427541  1.025419  1.107891\n",
      "18  1.031429  1.636410  1.314356  1.508571  1.907566\n",
      "19  1.249292  1.410383  1.755551  1.228798  1.076980\n",
      "\n",
      "Column with highest standard deviation: d\n",
      "Row with lowest mean (index): 9\n",
      "Row values:\n",
      " a    1.921874\n",
      "b    1.088493\n",
      "c    1.195983\n",
      "d    1.045227\n",
      "e    1.325330\n",
      "Name: 9, dtype: float64\n"
     ]
    }
   ],
   "source": [
    "import numpy as np\n",
    "import pandas as pd\n",
    "\n",
    "# Generate 20x5 matrix with random numbers uniformly from 1 to 2\n",
    "matrix = np.random.uniform(1, 2, (20, 5))\n",
    "\n",
    "# Create DataFrame\n",
    "df = pd.DataFrame(matrix, columns=[\"a\", \"b\", \"c\", \"d\", \"e\"])\n",
    "\n",
    "# Find column with highest standard deviation\n",
    "col_highest_std = df.std().idxmax()\n",
    "\n",
    "# Find row with lowest mean\n",
    "row_lowest_mean = df.mean(axis=1).idxmin()\n",
    "\n",
    "# Output results\n",
    "print(\"DataFrame:\\n\", df)\n",
    "print(\"\\nColumn with highest standard deviation:\", col_highest_std)\n",
    "print(\"Row with lowest mean (index):\", row_lowest_mean)\n",
    "print(\"Row values:\\n\", df.loc[row_lowest_mean])\n"
   ]
  },
  {
   "cell_type": "markdown",
   "id": "284f96ec",
   "metadata": {},
   "source": [
    "### Question 11 : Add a new column to the dataframe called “f” which is the sum of the columns “a”, “b”, “c”, “d”, “e”. Create another column called “g”. The value in the column “g” should be “LT8” if the value in the column “f” is less than 8 and “GT8” otherwise. Find the number of rows in the dataframe where the value in the column “g” is “LT8”. Find the standard deviation of the column “f” for the rows where the value in the column “g” is “LT8” and “GT8” respectively."
   ]
  },
  {
   "cell_type": "code",
   "execution_count": 18,
   "id": "1d384e30",
   "metadata": {},
   "outputs": [
    {
     "name": "stdout",
     "output_type": "stream",
     "text": [
      "Number of rows where g = 'LT8': 18\n",
      "Std dev of 'f' where g = 'LT8': 0.3889255787803507\n",
      "Std dev of 'f' where g = 'GT8': 0.7956146881961926\n"
     ]
    }
   ],
   "source": [
    "# Add column 'f' as the sum of a, b, c, d, e\n",
    "df['f'] = df[['a', 'b', 'c', 'd', 'e']].sum(axis=1)\n",
    "\n",
    "# Add column 'g' based on condition on 'f'\n",
    "df['g'] = np.where(df['f'] < 8, 'LT8', 'GT8')\n",
    "\n",
    "# Number of rows where g is 'LT8'\n",
    "count_LT8 = (df['g'] == 'LT8').sum()\n",
    "\n",
    "# Standard deviation of 'f' for LT8 and GT8 groups\n",
    "std_f_LT8 = df.loc[df['g'] == 'LT8', 'f'].std()\n",
    "std_f_GT8 = df.loc[df['g'] == 'GT8', 'f'].std()\n",
    "\n",
    "# Output results\n",
    "print(\"Number of rows where g = 'LT8':\", count_LT8)\n",
    "print(\"Std dev of 'f' where g = 'LT8':\", std_f_LT8)\n",
    "print(\"Std dev of 'f' where g = 'GT8':\", std_f_GT8)\n"
   ]
  },
  {
   "cell_type": "markdown",
   "id": "4e5fbd74",
   "metadata": {},
   "source": [
    "### Question 12 : Write a small piece of code to explain broadcasting in numpy."
   ]
  },
  {
   "cell_type": "code",
   "execution_count": 19,
   "id": "f6cf4bc1",
   "metadata": {},
   "outputs": [
    {
     "name": "stdout",
     "output_type": "stream",
     "text": [
      "Matrix A:\n",
      " [[1 2 3]\n",
      " [4 5 6]\n",
      " [7 8 9]]\n",
      "\n",
      "Array b: [10 20 30]\n",
      "\n",
      "Result (A + b):\n",
      " [[11 22 33]\n",
      " [14 25 36]\n",
      " [17 28 39]]\n"
     ]
    }
   ],
   "source": [
    "import numpy as np\n",
    "\n",
    "# A 3x3 matrix\n",
    "A = np.array([[1, 2, 3],\n",
    "              [4, 5, 6],\n",
    "              [7, 8, 9]])\n",
    "\n",
    "# A 1D array of length 3\n",
    "b = np.array([10, 20, 30])\n",
    "\n",
    "# Broadcasting: b is added to each row of A\n",
    "C = A + b\n",
    "\n",
    "print(\"Matrix A:\\n\", A)\n",
    "print(\"\\nArray b:\", b)\n",
    "print(\"\\nResult (A + b):\\n\", C)\n"
   ]
  },
  {
   "cell_type": "markdown",
   "id": "2d3f8ce4",
   "metadata": {},
   "source": [
    "Explanation : NumPy broadcasts b to match (3, 3) by repeating it across rows automatically."
   ]
  },
  {
   "cell_type": "markdown",
   "id": "9a5a21fe",
   "metadata": {},
   "source": [
    "### Question - 13 : Write a function to compute the `argmin` of a numpy array. The function should take a numpy array as input and return the index of the minimum element. You can use the `np.argmin` function to verify your solution."
   ]
  },
  {
   "cell_type": "code",
   "execution_count": 20,
   "id": "db651282",
   "metadata": {},
   "outputs": [
    {
     "name": "stdout",
     "output_type": "stream",
     "text": [
      "Array: [5 2 8 1 4]\n",
      "Custom argmin index: 3\n",
      "NumPy argmin index: 3\n",
      "True\n"
     ]
    }
   ],
   "source": [
    "import numpy as np\n",
    "\n",
    "def my_argmin(arr):\n",
    "    # Start by assuming the first element is the minimum\n",
    "    min_index = 0\n",
    "    min_value = arr[0]\n",
    "    \n",
    "    # Loop through the array to find the min index\n",
    "    for i in range(1, len(arr)):\n",
    "        if arr[i] < min_value:\n",
    "            min_value = arr[i]\n",
    "            min_index = i\n",
    "    return min_index\n",
    "\n",
    "# Example usage\n",
    "arr = np.array([5, 2, 8, 1, 4])\n",
    "\n",
    "custom_result = my_argmin(arr)\n",
    "numpy_result = np.argmin(arr)  # For verification\n",
    "\n",
    "print(\"Array:\", arr)\n",
    "print(\"Custom argmin index:\", custom_result)\n",
    "print(\"NumPy argmin index:\", numpy_result)\n",
    "print(custom_result == numpy_result)\n"
   ]
  }
 ],
 "metadata": {
  "kernelspec": {
   "display_name": "base",
   "language": "python",
   "name": "python3"
  },
  "language_info": {
   "codemirror_mode": {
    "name": "ipython",
    "version": 3
   },
   "file_extension": ".py",
   "mimetype": "text/x-python",
   "name": "python",
   "nbconvert_exporter": "python",
   "pygments_lexer": "ipython3",
   "version": "3.12.7"
  }
 },
 "nbformat": 4,
 "nbformat_minor": 5
}
